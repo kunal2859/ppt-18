{
 "cells": [
  {
   "cell_type": "code",
   "execution_count": 3,
   "id": "8f6404d3",
   "metadata": {},
   "outputs": [
    {
     "name": "stdout",
     "output_type": "stream",
     "text": [
      "Function 'my_function' executed in  0.05999s\n"
     ]
    }
   ],
   "source": [
    "from time import time\n",
    "def my_func(func):\n",
    "    def my_func2(*args, **kwargs):\n",
    "        t1=time()\n",
    "        res=func(*args, **kwargs)\n",
    "        t2=time()\n",
    "        print(f'Function {func.__name__!r} executed in {(t2-t1): .5f}s')\n",
    "        return res\n",
    "    return my_func2\n",
    "\n",
    "@my_func\n",
    "def my_function(n):\n",
    "    for i in range(n):\n",
    "        for j in range(99999):\n",
    "            i*j\n",
    "my_function(3)"
   ]
  },
  {
   "cell_type": "code",
   "execution_count": null,
   "id": "3afe63ff",
   "metadata": {},
   "outputs": [],
   "source": []
  }
 ],
 "metadata": {
  "kernelspec": {
   "display_name": "Python 3 (ipykernel)",
   "language": "python",
   "name": "python3"
  },
  "language_info": {
   "codemirror_mode": {
    "name": "ipython",
    "version": 3
   },
   "file_extension": ".py",
   "mimetype": "text/x-python",
   "name": "python",
   "nbconvert_exporter": "python",
   "pygments_lexer": "ipython3",
   "version": "3.9.13"
  }
 },
 "nbformat": 4,
 "nbformat_minor": 5
}
